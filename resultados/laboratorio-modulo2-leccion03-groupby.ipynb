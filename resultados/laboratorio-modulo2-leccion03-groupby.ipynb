{
 "cells": [
  {
   "cell_type": "markdown",
   "id": "0e4a0473",
   "metadata": {},
   "source": [
    "<div style=\"text-align: center;\">\n",
    "  <img src=\"https://github.com/Hack-io-Data/Imagenes/blob/main/01-LogosHackio/logo_naranja@4x.png?raw=true\" alt=\"esquema\" />\n",
    "</div>"
   ]
  },
  {
   "cell_type": "markdown",
   "id": "8d36bc20",
   "metadata": {},
   "source": [
    "# Laboratorio Agrupamiento de Datos\n",
    "\n",
    "En este laboratorio usaremos el DataFrame creado en la lección anterior resultado de la unión de los conjuntos de datos compartidos contigo. \n",
    "\n",
    "**Instrucciones:**\n",
    "\n",
    "1. Lee cuidadosamente el enunciado de cada ejercicio.\n",
    "\n",
    "2. Implementa la solución en la celda de código proporcionada.\n",
    "\n",
    "3. Devuelve los resultados siempre en formato de DataFrame"
   ]
  },
  {
   "cell_type": "markdown",
   "id": "cb06a7b4",
   "metadata": {},
   "source": [
    "### 0. Carga los datos"
   ]
  },
  {
   "cell_type": "code",
   "execution_count": 4,
   "id": "60cb155f",
   "metadata": {},
   "outputs": [
    {
     "data": {
      "text/html": [
       "<div>\n",
       "<style scoped>\n",
       "    .dataframe tbody tr th:only-of-type {\n",
       "        vertical-align: middle;\n",
       "    }\n",
       "\n",
       "    .dataframe tbody tr th {\n",
       "        vertical-align: top;\n",
       "    }\n",
       "\n",
       "    .dataframe thead th {\n",
       "        text-align: right;\n",
       "    }\n",
       "</style>\n",
       "<table border=\"1\" class=\"dataframe\">\n",
       "  <thead>\n",
       "    <tr style=\"text-align: right;\">\n",
       "      <th></th>\n",
       "      <th>title</th>\n",
       "      <th>Genre</th>\n",
       "      <th>Premiere</th>\n",
       "      <th>Runtime</th>\n",
       "      <th>IMDB Score</th>\n",
       "      <th>Language</th>\n",
       "      <th>originales</th>\n",
       "      <th>show_id</th>\n",
       "      <th>type</th>\n",
       "      <th>director</th>\n",
       "      <th>cast</th>\n",
       "      <th>country</th>\n",
       "      <th>date_added</th>\n",
       "      <th>release_year</th>\n",
       "      <th>rating</th>\n",
       "      <th>duration</th>\n",
       "      <th>listed_in</th>\n",
       "      <th>description</th>\n",
       "    </tr>\n",
       "  </thead>\n",
       "  <tbody>\n",
       "    <tr>\n",
       "      <th>0</th>\n",
       "      <td>Dick Johnson Is Dead</td>\n",
       "      <td>Documentary</td>\n",
       "      <td>October 2, 2020</td>\n",
       "      <td>90.0</td>\n",
       "      <td>7.5</td>\n",
       "      <td>English</td>\n",
       "      <td>True</td>\n",
       "      <td>s1</td>\n",
       "      <td>Movie</td>\n",
       "      <td>Kirsten Johnson</td>\n",
       "      <td>NaN</td>\n",
       "      <td>United States</td>\n",
       "      <td>September 25, 2021</td>\n",
       "      <td>2020</td>\n",
       "      <td>PG-13</td>\n",
       "      <td>90 min</td>\n",
       "      <td>Documentaries</td>\n",
       "      <td>As her father nears the end of his life, filmm...</td>\n",
       "    </tr>\n",
       "    <tr>\n",
       "      <th>1</th>\n",
       "      <td>Blood &amp; Water</td>\n",
       "      <td>NaN</td>\n",
       "      <td>NaN</td>\n",
       "      <td>NaN</td>\n",
       "      <td>NaN</td>\n",
       "      <td>NaN</td>\n",
       "      <td>False</td>\n",
       "      <td>s2</td>\n",
       "      <td>TV Show</td>\n",
       "      <td>NaN</td>\n",
       "      <td>Ama Qamata, Khosi Ngema, Gail Mabalane, Thaban...</td>\n",
       "      <td>South Africa</td>\n",
       "      <td>September 24, 2021</td>\n",
       "      <td>2021</td>\n",
       "      <td>TV-MA</td>\n",
       "      <td>2 Seasons</td>\n",
       "      <td>International TV Shows, TV Dramas, TV Mysteries</td>\n",
       "      <td>After crossing paths at a party, a Cape Town t...</td>\n",
       "    </tr>\n",
       "    <tr>\n",
       "      <th>2</th>\n",
       "      <td>Ganglands</td>\n",
       "      <td>NaN</td>\n",
       "      <td>NaN</td>\n",
       "      <td>NaN</td>\n",
       "      <td>NaN</td>\n",
       "      <td>NaN</td>\n",
       "      <td>False</td>\n",
       "      <td>s3</td>\n",
       "      <td>TV Show</td>\n",
       "      <td>Julien Leclercq</td>\n",
       "      <td>Sami Bouajila, Tracy Gotoas, Samuel Jouy, Nabi...</td>\n",
       "      <td>NaN</td>\n",
       "      <td>September 24, 2021</td>\n",
       "      <td>2021</td>\n",
       "      <td>TV-MA</td>\n",
       "      <td>NaN</td>\n",
       "      <td>Crime TV Shows, International TV Shows, TV Act...</td>\n",
       "      <td>To protect his family from a powerful drug lor...</td>\n",
       "    </tr>\n",
       "    <tr>\n",
       "      <th>3</th>\n",
       "      <td>Jailbirds New Orleans</td>\n",
       "      <td>NaN</td>\n",
       "      <td>NaN</td>\n",
       "      <td>NaN</td>\n",
       "      <td>NaN</td>\n",
       "      <td>NaN</td>\n",
       "      <td>False</td>\n",
       "      <td>s4</td>\n",
       "      <td>TV Show</td>\n",
       "      <td>NaN</td>\n",
       "      <td>NaN</td>\n",
       "      <td>NaN</td>\n",
       "      <td>September 24, 2021</td>\n",
       "      <td>2021</td>\n",
       "      <td>TV-MA</td>\n",
       "      <td>NaN</td>\n",
       "      <td>Docuseries, Reality TV</td>\n",
       "      <td>Feuds, flirtations and toilet talk go down amo...</td>\n",
       "    </tr>\n",
       "    <tr>\n",
       "      <th>4</th>\n",
       "      <td>Kota Factory</td>\n",
       "      <td>NaN</td>\n",
       "      <td>NaN</td>\n",
       "      <td>NaN</td>\n",
       "      <td>NaN</td>\n",
       "      <td>NaN</td>\n",
       "      <td>False</td>\n",
       "      <td>s5</td>\n",
       "      <td>TV Show</td>\n",
       "      <td>NaN</td>\n",
       "      <td>Mayur More, Jitendra Kumar, Ranjan Raj, Alam K...</td>\n",
       "      <td>India</td>\n",
       "      <td>September 24, 2021</td>\n",
       "      <td>2021</td>\n",
       "      <td>TV-MA</td>\n",
       "      <td>2 Seasons</td>\n",
       "      <td>International TV Shows, Romantic TV Shows, TV ...</td>\n",
       "      <td>In a city of coaching centers known to train I...</td>\n",
       "    </tr>\n",
       "  </tbody>\n",
       "</table>\n",
       "</div>"
      ],
      "text/plain": [
       "                   title        Genre         Premiere  Runtime  IMDB Score  \\\n",
       "0   Dick Johnson Is Dead  Documentary  October 2, 2020     90.0         7.5   \n",
       "1          Blood & Water          NaN              NaN      NaN         NaN   \n",
       "2              Ganglands          NaN              NaN      NaN         NaN   \n",
       "3  Jailbirds New Orleans          NaN              NaN      NaN         NaN   \n",
       "4           Kota Factory          NaN              NaN      NaN         NaN   \n",
       "\n",
       "  Language  originales show_id     type         director  \\\n",
       "0  English        True      s1    Movie  Kirsten Johnson   \n",
       "1      NaN       False      s2  TV Show              NaN   \n",
       "2      NaN       False      s3  TV Show  Julien Leclercq   \n",
       "3      NaN       False      s4  TV Show              NaN   \n",
       "4      NaN       False      s5  TV Show              NaN   \n",
       "\n",
       "                                                cast        country  \\\n",
       "0                                                NaN  United States   \n",
       "1  Ama Qamata, Khosi Ngema, Gail Mabalane, Thaban...   South Africa   \n",
       "2  Sami Bouajila, Tracy Gotoas, Samuel Jouy, Nabi...            NaN   \n",
       "3                                                NaN            NaN   \n",
       "4  Mayur More, Jitendra Kumar, Ranjan Raj, Alam K...          India   \n",
       "\n",
       "           date_added  release_year rating   duration  \\\n",
       "0  September 25, 2021          2020  PG-13     90 min   \n",
       "1  September 24, 2021          2021  TV-MA  2 Seasons   \n",
       "2  September 24, 2021          2021  TV-MA        NaN   \n",
       "3  September 24, 2021          2021  TV-MA        NaN   \n",
       "4  September 24, 2021          2021  TV-MA  2 Seasons   \n",
       "\n",
       "                                           listed_in  \\\n",
       "0                                      Documentaries   \n",
       "1    International TV Shows, TV Dramas, TV Mysteries   \n",
       "2  Crime TV Shows, International TV Shows, TV Act...   \n",
       "3                             Docuseries, Reality TV   \n",
       "4  International TV Shows, Romantic TV Shows, TV ...   \n",
       "\n",
       "                                         description  \n",
       "0  As her father nears the end of his life, filmm...  \n",
       "1  After crossing paths at a party, a Cape Town t...  \n",
       "2  To protect his family from a powerful drug lor...  \n",
       "3  Feuds, flirtations and toilet talk go down amo...  \n",
       "4  In a city of coaching centers known to train I...  "
      ]
     },
     "execution_count": 4,
     "metadata": {},
     "output_type": "execute_result"
    }
   ],
   "source": [
    "import pandas as pd \n",
    "import numpy as np\n",
    "\n",
    "df = pd.read_csv(r\"datos_entrada\\netflix.csv\", index_col=0)\n",
    "\n",
    "df.head(5)"
   ]
  },
  {
   "cell_type": "markdown",
   "id": "3b989ae2",
   "metadata": {},
   "source": [
    "#### Ejercicio 1: ¿Cuántos títulos hay por cada tipo de contenido ('Movie' o 'TV Show')?"
   ]
  },
  {
   "cell_type": "code",
   "execution_count": 23,
   "id": "868aceb2",
   "metadata": {},
   "outputs": [
    {
     "name": "stdout",
     "output_type": "stream",
     "text": [
      "      type  title_count\n",
      "0    Movie         6131\n",
      "1  TV Show         2676\n"
     ]
    },
    {
     "data": {
      "text/html": [
       "<div>\n",
       "<style scoped>\n",
       "    .dataframe tbody tr th:only-of-type {\n",
       "        vertical-align: middle;\n",
       "    }\n",
       "\n",
       "    .dataframe tbody tr th {\n",
       "        vertical-align: top;\n",
       "    }\n",
       "\n",
       "    .dataframe thead th {\n",
       "        text-align: right;\n",
       "    }\n",
       "</style>\n",
       "<table border=\"1\" class=\"dataframe\">\n",
       "  <thead>\n",
       "    <tr style=\"text-align: right;\">\n",
       "      <th></th>\n",
       "      <th>type</th>\n",
       "      <th>title_count</th>\n",
       "      <th>title_%</th>\n",
       "    </tr>\n",
       "  </thead>\n",
       "  <tbody>\n",
       "    <tr>\n",
       "      <th>0</th>\n",
       "      <td>Movie</td>\n",
       "      <td>6131</td>\n",
       "      <td>69.62</td>\n",
       "    </tr>\n",
       "    <tr>\n",
       "      <th>1</th>\n",
       "      <td>TV Show</td>\n",
       "      <td>2676</td>\n",
       "      <td>30.38</td>\n",
       "    </tr>\n",
       "  </tbody>\n",
       "</table>\n",
       "</div>"
      ],
      "text/plain": [
       "      type  title_count  title_%\n",
       "0    Movie         6131    69.62\n",
       "1  TV Show         2676    30.38"
      ]
     },
     "execution_count": 23,
     "metadata": {},
     "output_type": "execute_result"
    }
   ],
   "source": [
    "df_titulos = df.groupby(\"type\")[\"title\"].count().reset_index(name='title_count')\n",
    "\n",
    "print(df_titulos)\n",
    "\n",
    "df_titulos['title_%'] = ((df_titulos['title_count'] / df_titulos['title_count'].sum()) * 100).round(2)\n",
    "\n",
    "df_titulos\n",
    " \n",
    "\n",
    "\n",
    "\n",
    "#df_formaciones = df.groupby(\"Gender\")[\"TrainingTimesLastYear\"].sum().reset_index()\n",
    "#df_formaciones[\"%\"] = (df_formaciones[\"TrainingTimesLastYear\"] / df_formaciones[\"TrainingTimesLastYear\"].sum() * 100).round(2)\n",
    "#df_formaciones"
   ]
  },
  {
   "cell_type": "markdown",
   "id": "0c8c25ae",
   "metadata": {},
   "source": [
    "Hay 6131 titulos del tipo \"Movie\"\n",
    "Hay 2676 titulos del tipo TV Show"
   ]
  },
  {
   "cell_type": "markdown",
   "id": "b956d726",
   "metadata": {},
   "source": [
    "#### Ejercicio 2: ¿Cuál es el promedio de puntuación de las películas agrupadas por clasificación de audiencia ('rating')? Interpreta los resultados, ¿hay algo que te llame la atención? Explica por qué. "
   ]
  },
  {
   "cell_type": "code",
   "execution_count": 12,
   "id": "416c0731",
   "metadata": {},
   "outputs": [
    {
     "data": {
      "text/plain": [
       "rating\n",
       "66 min           NaN\n",
       "74 min           NaN\n",
       "84 min           NaN\n",
       "G           6.500000\n",
       "NC-17            NaN\n",
       "NR               NaN\n",
       "PG          6.800000\n",
       "PG-13       6.386957\n",
       "R           6.495745\n",
       "TV-14       6.177660\n",
       "TV-G        6.156250\n",
       "TV-MA       6.097638\n",
       "TV-PG       6.308772\n",
       "TV-Y        6.780000\n",
       "TV-Y7       6.240000\n",
       "TV-Y7-FV         NaN\n",
       "UR               NaN\n",
       "Name: IMDB Score, dtype: float64"
      ]
     },
     "execution_count": 12,
     "metadata": {},
     "output_type": "execute_result"
    }
   ],
   "source": [
    "df.groupby(\"rating\")[\"IMDB Score\"].mean()"
   ]
  },
  {
   "cell_type": "markdown",
   "id": "e62eab43",
   "metadata": {},
   "source": [
    "Cosas que nos llaman la antencion:\n",
    "- Las puntuaciones son *muy similares*.\n",
    "- Existen varias clasificaciones de la audiencia con *valores nulos*.\n",
    "- Hay algunas clasificaciones que parecen *no ser correctas* y que deberian estar en el campo de duracion. "
   ]
  },
  {
   "cell_type": "markdown",
   "id": "f236954f",
   "metadata": {},
   "source": [
    "#### Ejercicio 3: ¿Cuántos títulos hay por cada país? Ordena los resultados de mayor a menor"
   ]
  },
  {
   "cell_type": "code",
   "execution_count": 22,
   "id": "1d6b8695",
   "metadata": {},
   "outputs": [
    {
     "data": {
      "text/plain": [
       "country\n",
       ", France, Algeria                            1\n",
       "Spain, Germany, Denmark, United States       1\n",
       "Spain, Italy, Argentina                      1\n",
       "Spain, Mexico, France                        1\n",
       "Spain, Portugal                              1\n",
       "                                          ... \n",
       "South Korea                                199\n",
       "Japan                                      245\n",
       "United Kingdom                             419\n",
       "India                                      972\n",
       "United States                             2818\n",
       "Name: title, Length: 748, dtype: int64"
      ]
     },
     "execution_count": 22,
     "metadata": {},
     "output_type": "execute_result"
    }
   ],
   "source": [
    "df_agrupado = df.groupby(\"country\")[\"title\"].count()\n",
    "df_agrupado.sort_values()"
   ]
  },
  {
   "cell_type": "markdown",
   "id": "a49712a3",
   "metadata": {},
   "source": [
    "#### Ejercicio 4: ¿Cuál es la calificación promedio en IMDb de los títulos agrupados por tipo ('Movie' o 'TV Show')?"
   ]
  },
  {
   "cell_type": "code",
   "execution_count": 26,
   "id": "564e953f",
   "metadata": {},
   "outputs": [
    {
     "data": {
      "text/plain": [
       "type\n",
       "Movie      6.210916\n",
       "TV Show         NaN\n",
       "Name: IMDB Score, dtype: float64"
      ]
     },
     "execution_count": 26,
     "metadata": {},
     "output_type": "execute_result"
    }
   ],
   "source": [
    "df.groupby(\"type\")[\"IMDB Score\"].mean()"
   ]
  },
  {
   "cell_type": "markdown",
   "id": "ec23e073",
   "metadata": {},
   "source": [
    "Los titulos de `TV Show` no parecen tener una calificaicon IMDB."
   ]
  },
  {
   "cell_type": "markdown",
   "id": "4eac1036",
   "metadata": {},
   "source": [
    "#### Ejercicio 5: ¿Cuántos títulos se añadieron a Netflix cada año? Para resolver este ejercicio tendrás que convertir la columna `date_added` a formato fecha usando el método `pd.to_datetime`. [Aquí](https://pandas.pydata.org/docs/reference/api/pandas.to_datetime.html) tienes la documentación, leeala con detenimiento antes de usar el método. "
   ]
  },
  {
   "cell_type": "code",
   "execution_count": 33,
   "id": "304cc8a0",
   "metadata": {},
   "outputs": [
    {
     "data": {
      "text/plain": [
       "year_added\n",
       "2008       2\n",
       "2009       2\n",
       "2010       1\n",
       "2011      13\n",
       "2012       3\n",
       "2013      10\n",
       "2014      23\n",
       "2015      73\n",
       "2016     418\n",
       "2017    1164\n",
       "2018    1625\n",
       "2019    1999\n",
       "2020    1878\n",
       "2021    1498\n",
       "Name: title, dtype: int64"
      ]
     },
     "execution_count": 33,
     "metadata": {},
     "output_type": "execute_result"
    }
   ],
   "source": [
    "# https://www.youtube.com/watch?v=9LbslWe9GXc  # para convertir a pd.to_datetime, ya que despues de leer la docu seguia con dudas\n",
    "df[\"date_added\"] = pd.to_datetime(df[\"date_added\"], errors='coerce') # coarce es para que me continue si hay un error y ponga el valor como NAN\n",
    "# https://sparkbyexamples.com/pandas/pandas-extract-year-from-datetime/ # para extraer el anio de las fechas\n",
    "df['year_added'] = df['date_added'].dt.strftime('%Y')\n",
    "df.groupby(\"year_added\")[\"title\"].count()"
   ]
  },
  {
   "cell_type": "markdown",
   "id": "ddd1d9b9",
   "metadata": {},
   "source": [
    "#### Ejercicio 6: ¿Cuál es el país con más títulos lanzados en el año 2020? Para resolver este ejercicio después del gropuby os puede resultar interesante el método [`idxmax`](https://pandas.pydata.org/docs/reference/api/pandas.DataFrame.idxmax.html)"
   ]
  },
  {
   "cell_type": "code",
   "execution_count": 40,
   "id": "0d914739",
   "metadata": {},
   "outputs": [
    {
     "name": "stdout",
     "output_type": "stream",
     "text": [
      "El año con mas lanzamientos fue el 2018\n"
     ]
    }
   ],
   "source": [
    "df.groupby(\"release_year\")[\"title\"].count()\n",
    "max_year = df.groupby(\"release_year\")[\"title\"].count().idxmax()\n",
    "\n",
    "print(f\"El año con mas lanzamientos fue el {max_year}\")\n"
   ]
  },
  {
   "cell_type": "markdown",
   "id": "b5e05d91",
   "metadata": {},
   "source": [
    "#### Ejercicio 7:¿Cuál es el promedio de puntuación en IMDb de los títulos agrupados por país?"
   ]
  },
  {
   "cell_type": "code",
   "execution_count": 41,
   "id": "51c46210",
   "metadata": {},
   "outputs": [
    {
     "data": {
      "text/plain": [
       "country\n",
       ", France, Algeria                                       NaN\n",
       ", South Korea                                           NaN\n",
       "Argentina                                              6.42\n",
       "Argentina, Brazil, France, Poland, Germany, Denmark     NaN\n",
       "Argentina, Chile                                        NaN\n",
       "                                                       ... \n",
       "Venezuela                                               NaN\n",
       "Venezuela, Colombia                                     NaN\n",
       "Vietnam                                                 NaN\n",
       "West Germany                                            NaN\n",
       "Zimbabwe                                                NaN\n",
       "Name: IMDB Score, Length: 748, dtype: float64"
      ]
     },
     "execution_count": 41,
     "metadata": {},
     "output_type": "execute_result"
    }
   ],
   "source": [
    "df.groupby(\"country\")[\"IMDB Score\"].mean()"
   ]
  },
  {
   "cell_type": "markdown",
   "id": "43634c81",
   "metadata": {},
   "source": [
    "#### Ejercicio 8: ¿Cuántos títulos fueron lanzados en cada año agrupados por tipo ('Movie' o 'TV Show')?"
   ]
  },
  {
   "cell_type": "code",
   "execution_count": null,
   "id": "d14840b1",
   "metadata": {},
   "outputs": [
    {
     "data": {
      "text/plain": [
       "release_year  type   \n",
       "1925          TV Show      1\n",
       "1942          Movie        2\n",
       "1943          Movie        3\n",
       "1944          Movie        3\n",
       "1945          Movie        3\n",
       "                        ... \n",
       "2019          TV Show    397\n",
       "2020          Movie      517\n",
       "              TV Show    436\n",
       "2021          Movie      277\n",
       "              TV Show    315\n",
       "Name: type, Length: 119, dtype: int64"
      ]
     },
     "execution_count": 39,
     "metadata": {},
     "output_type": "execute_result"
    }
   ],
   "source": [
    "#df.groupby(\"release_year\",\"type\")[\"title\"].count()\n",
    "\n",
    "df2 = df.groupby(['release_year', 'type']).size()  # https://stackoverflow.com/questions/17679089/pandas-dataframe-groupby-two-columns-and-get-counts\n",
    "\n",
    "df2\n",
    "\n",
    "df3 = df.groupby([\"release_year\", \"type\"])[\"type\"].count()\n",
    "\n",
    "df3\n"
   ]
  },
  {
   "cell_type": "markdown",
   "id": "027a8be6",
   "metadata": {},
   "source": [
    "- En el ejercicio 8 he usado 2 metodos. Estaba primero teniendo problemas con el metodo de los apuntes, algo estaba haciendo mal.\n",
    "- Buscando en google, he encontrazo size() que parece darme el mismo resultado (df2)\n",
    "- Despues, nuevamente, he vuelto a revisar lo de poner dos indices en groupby y esta vez me ha funcionado (df3)"
   ]
  },
  {
   "cell_type": "markdown",
   "id": "4fc8e1d3",
   "metadata": {},
   "source": [
    "#### Ejercicio 9: ¿Cuál es el país con la mayor cantidad de títulos de clasificación 'TV-MA'?"
   ]
  },
  {
   "cell_type": "code",
   "execution_count": 70,
   "id": "a9a2d175",
   "metadata": {},
   "outputs": [
    {
     "name": "stdout",
     "output_type": "stream",
     "text": [
      "rating                                         TV-MA\n",
      "country       United Kingdom, Ukraine, United States\n",
      "title_mean                                       8.4\n",
      "Name: 900, dtype: object\n"
     ]
    }
   ],
   "source": [
    "df2 = df.groupby([\"rating\", \"country\"])[\"IMDB Score\"].mean().reset_index(name='title_mean')\n",
    "\n",
    "filtered_df2 = df2[df2[\"rating\"] == \"TV-MA\"]\n",
    "\n",
    "fila_maxima = filtered_df2.loc[filtered_df2[\"title_mean\"].idxmax()]  ## esta parte me ha costado. Al final he usado loc para filtrar haya donde el title mean era maximo\n",
    "\n",
    "print(fila_maxima)"
   ]
  },
  {
   "cell_type": "markdown",
   "id": "f1121ccd",
   "metadata": {},
   "source": [
    "#### Ejercicio 10. ¿Cuál es el promedio de duración de las películas agrupadas por país?"
   ]
  },
  {
   "cell_type": "code",
   "execution_count": 85,
   "id": "06491396",
   "metadata": {},
   "outputs": [
    {
     "data": {
      "text/html": [
       "<div>\n",
       "<style scoped>\n",
       "    .dataframe tbody tr th:only-of-type {\n",
       "        vertical-align: middle;\n",
       "    }\n",
       "\n",
       "    .dataframe tbody tr th {\n",
       "        vertical-align: top;\n",
       "    }\n",
       "\n",
       "    .dataframe thead th {\n",
       "        text-align: right;\n",
       "    }\n",
       "</style>\n",
       "<table border=\"1\" class=\"dataframe\">\n",
       "  <thead>\n",
       "    <tr style=\"text-align: right;\">\n",
       "      <th></th>\n",
       "      <th>country</th>\n",
       "      <th>Runtime_mean</th>\n",
       "    </tr>\n",
       "  </thead>\n",
       "  <tbody>\n",
       "    <tr>\n",
       "      <th>383</th>\n",
       "      <td>Pakistan, United States</td>\n",
       "      <td>15.0</td>\n",
       "    </tr>\n",
       "    <tr>\n",
       "      <th>280</th>\n",
       "      <td>Ireland, Canada</td>\n",
       "      <td>30.0</td>\n",
       "    </tr>\n",
       "    <tr>\n",
       "      <th>690</th>\n",
       "      <td>United States, Mexico</td>\n",
       "      <td>31.0</td>\n",
       "    </tr>\n",
       "    <tr>\n",
       "      <th>474</th>\n",
       "      <td>Sweden, United States</td>\n",
       "      <td>40.0</td>\n",
       "    </tr>\n",
       "    <tr>\n",
       "      <th>686</th>\n",
       "      <td>United States, Japan</td>\n",
       "      <td>58.0</td>\n",
       "    </tr>\n",
       "    <tr>\n",
       "      <th>...</th>\n",
       "      <td>...</td>\n",
       "      <td>...</td>\n",
       "    </tr>\n",
       "    <tr>\n",
       "      <th>728</th>\n",
       "      <td>United States, United Kingdom, India</td>\n",
       "      <td>130.0</td>\n",
       "    </tr>\n",
       "    <tr>\n",
       "      <th>56</th>\n",
       "      <td>Cambodia, United States</td>\n",
       "      <td>136.0</td>\n",
       "    </tr>\n",
       "    <tr>\n",
       "      <th>458</th>\n",
       "      <td>Spain, Germany</td>\n",
       "      <td>139.0</td>\n",
       "    </tr>\n",
       "    <tr>\n",
       "      <th>554</th>\n",
       "      <td>United Kingdom, Hungary, Australia</td>\n",
       "      <td>140.0</td>\n",
       "    </tr>\n",
       "    <tr>\n",
       "      <th>376</th>\n",
       "      <td>Norway, Iceland, United States</td>\n",
       "      <td>144.0</td>\n",
       "    </tr>\n",
       "  </tbody>\n",
       "</table>\n",
       "<p>81 rows × 2 columns</p>\n",
       "</div>"
      ],
      "text/plain": [
       "                                  country  Runtime_mean\n",
       "383               Pakistan, United States          15.0\n",
       "280                       Ireland, Canada          30.0\n",
       "690                 United States, Mexico          31.0\n",
       "474                 Sweden, United States          40.0\n",
       "686                  United States, Japan          58.0\n",
       "..                                    ...           ...\n",
       "728  United States, United Kingdom, India         130.0\n",
       "56                Cambodia, United States         136.0\n",
       "458                        Spain, Germany         139.0\n",
       "554    United Kingdom, Hungary, Australia         140.0\n",
       "376        Norway, Iceland, United States         144.0\n",
       "\n",
       "[81 rows x 2 columns]"
      ]
     },
     "execution_count": 85,
     "metadata": {},
     "output_type": "execute_result"
    }
   ],
   "source": [
    "df10 = df.groupby([\"country\"])[\"Runtime\"].mean().reset_index(name='Runtime_mean').round()\n",
    "\n",
    "df10_filtered = df10[df10[\"Runtime_mean\"] > 0]\n",
    "\n",
    "df10_filtered.sort_values(\"Runtime_mean\")"
   ]
  },
  {
   "cell_type": "markdown",
   "id": "0f3ee373",
   "metadata": {},
   "source": [
    "#### Ejercicio 11: ¿Cuál es el número total de títulos por país y clasificación de audiencia ('rating')?"
   ]
  },
  {
   "cell_type": "code",
   "execution_count": 87,
   "id": "8fe17c56",
   "metadata": {},
   "outputs": [
    {
     "data": {
      "text/html": [
       "<div>\n",
       "<style scoped>\n",
       "    .dataframe tbody tr th:only-of-type {\n",
       "        vertical-align: middle;\n",
       "    }\n",
       "\n",
       "    .dataframe tbody tr th {\n",
       "        vertical-align: top;\n",
       "    }\n",
       "\n",
       "    .dataframe thead th {\n",
       "        text-align: right;\n",
       "    }\n",
       "</style>\n",
       "<table border=\"1\" class=\"dataframe\">\n",
       "  <thead>\n",
       "    <tr style=\"text-align: right;\">\n",
       "      <th></th>\n",
       "      <th>rating</th>\n",
       "      <th>country</th>\n",
       "      <th>title_sum</th>\n",
       "    </tr>\n",
       "  </thead>\n",
       "  <tbody>\n",
       "    <tr>\n",
       "      <th>0</th>\n",
       "      <td>66 min</td>\n",
       "      <td>United States</td>\n",
       "      <td>Louis C.K.: Live at the Comedy Store</td>\n",
       "    </tr>\n",
       "    <tr>\n",
       "      <th>1</th>\n",
       "      <td>74 min</td>\n",
       "      <td>United States</td>\n",
       "      <td>Louis C.K. 2017</td>\n",
       "    </tr>\n",
       "    <tr>\n",
       "      <th>2</th>\n",
       "      <td>84 min</td>\n",
       "      <td>United States</td>\n",
       "      <td>Louis C.K.: Hilarious</td>\n",
       "    </tr>\n",
       "    <tr>\n",
       "      <th>3</th>\n",
       "      <td>G</td>\n",
       "      <td>Canada</td>\n",
       "      <td>Pup Star</td>\n",
       "    </tr>\n",
       "    <tr>\n",
       "      <th>4</th>\n",
       "      <td>G</td>\n",
       "      <td>Canada, Japan, United States</td>\n",
       "      <td>Pup Star: World Tour</td>\n",
       "    </tr>\n",
       "    <tr>\n",
       "      <th>...</th>\n",
       "      <td>...</td>\n",
       "      <td>...</td>\n",
       "      <td>...</td>\n",
       "    </tr>\n",
       "    <tr>\n",
       "      <th>1170</th>\n",
       "      <td>TV-Y7-FV</td>\n",
       "      <td>United States</td>\n",
       "      <td>Dear Dracula</td>\n",
       "    </tr>\n",
       "    <tr>\n",
       "      <th>1171</th>\n",
       "      <td>TV-Y7-FV</td>\n",
       "      <td>United States, Italy</td>\n",
       "      <td>Leo the Lion</td>\n",
       "    </tr>\n",
       "    <tr>\n",
       "      <th>1172</th>\n",
       "      <td>UR</td>\n",
       "      <td>France</td>\n",
       "      <td>Immoral Tales</td>\n",
       "    </tr>\n",
       "    <tr>\n",
       "      <th>1173</th>\n",
       "      <td>UR</td>\n",
       "      <td>United Kingdom, France</td>\n",
       "      <td>Sex Doll</td>\n",
       "    </tr>\n",
       "    <tr>\n",
       "      <th>1174</th>\n",
       "      <td>UR</td>\n",
       "      <td>United States</td>\n",
       "      <td>You Don't Mess with the Zohan</td>\n",
       "    </tr>\n",
       "  </tbody>\n",
       "</table>\n",
       "<p>1175 rows × 3 columns</p>\n",
       "</div>"
      ],
      "text/plain": [
       "        rating                       country  \\\n",
       "0       66 min                 United States   \n",
       "1       74 min                 United States   \n",
       "2       84 min                 United States   \n",
       "3            G                        Canada   \n",
       "4            G  Canada, Japan, United States   \n",
       "...        ...                           ...   \n",
       "1170  TV-Y7-FV                 United States   \n",
       "1171  TV-Y7-FV          United States, Italy   \n",
       "1172        UR                        France   \n",
       "1173        UR        United Kingdom, France   \n",
       "1174        UR                 United States   \n",
       "\n",
       "                                 title_sum  \n",
       "0     Louis C.K.: Live at the Comedy Store  \n",
       "1                          Louis C.K. 2017  \n",
       "2                    Louis C.K.: Hilarious  \n",
       "3                                 Pup Star  \n",
       "4                     Pup Star: World Tour  \n",
       "...                                    ...  \n",
       "1170                          Dear Dracula  \n",
       "1171                          Leo the Lion  \n",
       "1172                         Immoral Tales  \n",
       "1173                              Sex Doll  \n",
       "1174         You Don't Mess with the Zohan  \n",
       "\n",
       "[1175 rows x 3 columns]"
      ]
     },
     "execution_count": 87,
     "metadata": {},
     "output_type": "execute_result"
    }
   ],
   "source": [
    "df11 = df.groupby([\"rating\", \"country\"])[\"title\"].sum().reset_index(name='title_sum')\n",
    "\n",
    "df11"
   ]
  },
  {
   "cell_type": "markdown",
   "id": "e968d41f",
   "metadata": {},
   "source": [
    "#### Ejercicio 12: ¿Cuántos títulos fueron lanzados antes del año 2000 agrupados por país?"
   ]
  },
  {
   "cell_type": "code",
   "execution_count": null,
   "id": "09e77e41",
   "metadata": {},
   "outputs": [
    {
     "name": "stdout",
     "output_type": "stream",
     "text": [
      "Antes del anio 2020, se lanzaron 502 titulos\n"
     ]
    }
   ],
   "source": [
    "df12 = df.groupby([\"release_year\", \"country\"])[\"title\"].count().reset_index(name='title_sum')\n",
    "df12_filtered = df12[df12[\"release_year\"] < 2000]\n",
    "df12_filtered \n",
    "total12 = df12_filtered[\"title_sum\"].sum()\n",
    "total12\n",
    "\n",
    "print(f\"Antes del anio 2000, se lanzaron {total12} titulos\")\n",
    "\n",
    "\n"
   ]
  },
  {
   "cell_type": "markdown",
   "id": "3feff0de",
   "metadata": {},
   "source": [
    "#### Ejercicio 13: ¿Cuál es la puntuación promedio en IMDb de los títulos lanzados en 2021 agrupados por país?"
   ]
  },
  {
   "cell_type": "code",
   "execution_count": 108,
   "id": "06e047e9",
   "metadata": {},
   "outputs": [
    {
     "name": "stdout",
     "output_type": "stream",
     "text": [
      "Para el anio 2021, la puntuacio media fue de 5.9\n"
     ]
    }
   ],
   "source": [
    "df13 = df.groupby([\"country\", \"release_year\"])[\"IMDB Score\"].mean().reset_index(name='IMDB Score Media')\n",
    "\n",
    "df13_filtered = df13[df13[\"release_year\"] == 2021]\n",
    "\n",
    "puntuacion = df13_filtered[\"IMDB Score Media\"].mean()\n",
    "\n",
    "puntuacion\n",
    "\n",
    "print(f\"Para el anio 2021, la puntuacio media fue de {puntuacion.round(1)}\")"
   ]
  },
  {
   "cell_type": "markdown",
   "id": "b598a9ee",
   "metadata": {},
   "source": [
    "#### Ejercicio 14: ¿Cuántos títulos fueron dirigidos por cada director? Ordena los resultados de mayor a menor"
   ]
  },
  {
   "cell_type": "code",
   "execution_count": 113,
   "id": "a36c5d63",
   "metadata": {},
   "outputs": [
    {
     "data": {
      "text/html": [
       "<div>\n",
       "<style scoped>\n",
       "    .dataframe tbody tr th:only-of-type {\n",
       "        vertical-align: middle;\n",
       "    }\n",
       "\n",
       "    .dataframe tbody tr th {\n",
       "        vertical-align: top;\n",
       "    }\n",
       "\n",
       "    .dataframe thead th {\n",
       "        text-align: right;\n",
       "    }\n",
       "</style>\n",
       "<table border=\"1\" class=\"dataframe\">\n",
       "  <thead>\n",
       "    <tr style=\"text-align: right;\">\n",
       "      <th></th>\n",
       "      <th>director</th>\n",
       "      <th>pelis_por_director</th>\n",
       "    </tr>\n",
       "  </thead>\n",
       "  <tbody>\n",
       "    <tr>\n",
       "      <th>3392</th>\n",
       "      <td>Rajiv Chilaka</td>\n",
       "      <td>19</td>\n",
       "    </tr>\n",
       "    <tr>\n",
       "      <th>3443</th>\n",
       "      <td>Raúl Campos, Jan Suter</td>\n",
       "      <td>18</td>\n",
       "    </tr>\n",
       "    <tr>\n",
       "      <th>4046</th>\n",
       "      <td>Suhas Kadav</td>\n",
       "      <td>16</td>\n",
       "    </tr>\n",
       "    <tr>\n",
       "      <th>2598</th>\n",
       "      <td>Marcus Raboy</td>\n",
       "      <td>16</td>\n",
       "    </tr>\n",
       "    <tr>\n",
       "      <th>1790</th>\n",
       "      <td>Jay Karas</td>\n",
       "      <td>14</td>\n",
       "    </tr>\n",
       "    <tr>\n",
       "      <th>...</th>\n",
       "      <td>...</td>\n",
       "      <td>...</td>\n",
       "    </tr>\n",
       "    <tr>\n",
       "      <th>2049</th>\n",
       "      <td>Jos Humphrey</td>\n",
       "      <td>1</td>\n",
       "    </tr>\n",
       "    <tr>\n",
       "      <th>2050</th>\n",
       "      <td>Jose Gomez</td>\n",
       "      <td>1</td>\n",
       "    </tr>\n",
       "    <tr>\n",
       "      <th>2051</th>\n",
       "      <td>Jose Javier Reyes</td>\n",
       "      <td>1</td>\n",
       "    </tr>\n",
       "    <tr>\n",
       "      <th>2053</th>\n",
       "      <td>Joseduardo Giordano, Sergio Goyri Jr.</td>\n",
       "      <td>1</td>\n",
       "    </tr>\n",
       "    <tr>\n",
       "      <th>2264</th>\n",
       "      <td>Khaled Youssef</td>\n",
       "      <td>1</td>\n",
       "    </tr>\n",
       "  </tbody>\n",
       "</table>\n",
       "<p>4528 rows × 2 columns</p>\n",
       "</div>"
      ],
      "text/plain": [
       "                                   director  pelis_por_director\n",
       "3392                          Rajiv Chilaka                  19\n",
       "3443                 Raúl Campos, Jan Suter                  18\n",
       "4046                            Suhas Kadav                  16\n",
       "2598                           Marcus Raboy                  16\n",
       "1790                              Jay Karas                  14\n",
       "...                                     ...                 ...\n",
       "2049                           Jos Humphrey                   1\n",
       "2050                             Jose Gomez                   1\n",
       "2051                      Jose Javier Reyes                   1\n",
       "2053  Joseduardo Giordano, Sergio Goyri Jr.                   1\n",
       "2264                         Khaled Youssef                   1\n",
       "\n",
       "[4528 rows x 2 columns]"
      ]
     },
     "execution_count": 113,
     "metadata": {},
     "output_type": "execute_result"
    }
   ],
   "source": [
    "df14 = df.groupby([\"director\"])[\"title\"].count().reset_index(name='pelis_por_director')\n",
    "\n",
    "df14.sort_values('pelis_por_director',ascending=False)"
   ]
  },
  {
   "cell_type": "markdown",
   "id": "1471f841",
   "metadata": {},
   "source": [
    "#### Ejercicio 15: ¿Cuál es el lenguaje más frecuente en los títulos lanzados en los últimos 5 años agrupado por país?"
   ]
  },
  {
   "cell_type": "code",
   "execution_count": 119,
   "id": "57446c34",
   "metadata": {},
   "outputs": [
    {
     "name": "stdout",
     "output_type": "stream",
     "text": [
      "El idioma mas hablado es `English`\n"
     ]
    }
   ],
   "source": [
    "df14 = df.groupby([\"Language\",\"release_year\"])[\"title\"].count().reset_index(name='pelis_por_director')\n",
    "\n",
    "filtered_df14 = df14[df14[\"release_year\"] > 2016]\n",
    "\n",
    "fila_maxima = filtered_df14.loc[filtered_df14[\"pelis_por_director\"].idxmax()]  ## he repetido lo mismo que en el ejercicio 9\n",
    "\n",
    "idioma_mas_hablado = fila_maxima[\"Language\"]\n",
    "\n",
    "print(f\"El idioma mas hablado es `{idioma_mas_hablado}`\")"
   ]
  },
  {
   "cell_type": "code",
   "execution_count": null,
   "id": "15f51fe1",
   "metadata": {},
   "outputs": [],
   "source": []
  }
 ],
 "metadata": {
  "kernelspec": {
   "display_name": "data_analytics_env",
   "language": "python",
   "name": "python3"
  },
  "language_info": {
   "codemirror_mode": {
    "name": "ipython",
    "version": 3
   },
   "file_extension": ".py",
   "mimetype": "text/x-python",
   "name": "python",
   "nbconvert_exporter": "python",
   "pygments_lexer": "ipython3",
   "version": "3.8.20"
  }
 },
 "nbformat": 4,
 "nbformat_minor": 5
}
